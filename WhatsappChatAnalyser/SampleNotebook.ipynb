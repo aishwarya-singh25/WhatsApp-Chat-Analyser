{
 "cells": [
  {
   "cell_type": "code",
   "execution_count": 3,
   "id": "401722e0",
   "metadata": {},
   "outputs": [
    {
     "name": "stdout",
     "output_type": "stream",
     "text": [
      "Looking in indexes: https://test.pypi.org/simple/\r\n",
      "Requirement already satisfied: whatsapp-chat-analyser in /Users/aishwaryasingh/opt/anaconda3/lib/python3.8/site-packages (0.0.2)\r\n"
     ]
    }
   ],
   "source": [
    "!pip install -i https://test.pypi.org/simple/ whatsapp-chat-analyser"
   ]
  },
  {
   "cell_type": "code",
   "execution_count": 4,
   "id": "fba9a383",
   "metadata": {},
   "outputs": [
    {
     "name": "stderr",
     "output_type": "stream",
     "text": [
      "[nltk_data] Downloading package stopwords to\n",
      "[nltk_data]     /Users/aishwaryasingh/nltk_data...\n",
      "[nltk_data]   Package stopwords is already up-to-date!\n"
     ]
    },
    {
     "ename": "SyntaxError",
     "evalue": "unexpected EOF while parsing (whatsapp_chat_visualizer.py, line 67)",
     "output_type": "error",
     "traceback": [
      "Traceback \u001b[0;36m(most recent call last)\u001b[0m:\n",
      "  File \u001b[1;32m\"/Users/aishwaryasingh/opt/anaconda3/lib/python3.8/site-packages/IPython/core/interactiveshell.py\"\u001b[0m, line \u001b[1;32m3437\u001b[0m, in \u001b[1;35mrun_code\u001b[0m\n    exec(code_obj, self.user_global_ns, self.user_ns)\n",
      "  File \u001b[1;32m\"<ipython-input-4-a6f75413d673>\"\u001b[0m, line \u001b[1;32m2\u001b[0m, in \u001b[1;35m<module>\u001b[0m\n    import author\n",
      "\u001b[0;36m  File \u001b[0;32m\"/Users/aishwaryasingh/Documents/WhatsApp-Chat-Analyser/WhatsappChatAnalyser/author.py\"\u001b[0;36m, line \u001b[0;32m13\u001b[0;36m, in \u001b[0;35m<module>\u001b[0;36m\u001b[0m\n\u001b[0;31m    from WhatsappChatAnalyser import whatsapp_chat_visualizer as wcv\u001b[0m\n",
      "\u001b[0;36m  File \u001b[0;32m\"/Users/aishwaryasingh/opt/anaconda3/lib/python3.8/site-packages/WhatsappChatAnalyser/whatsapp_chat_visualizer.py\"\u001b[0;36m, line \u001b[0;32m67\u001b[0m\n\u001b[0;31m    \u001b[0m\n\u001b[0m    ^\u001b[0m\n\u001b[0;31mSyntaxError\u001b[0m\u001b[0;31m:\u001b[0m unexpected EOF while parsing\n"
     ]
    }
   ],
   "source": [
    "#importing required libraries\n",
    "import author\n",
    "import chat\n",
    "import whatsapp_text_cleaner as wtc\n",
    "import whatsapp_chat_visualizer as wcv\n",
    "\n",
    "import warnings\n",
    "warnings.filterwarnings(\"ignore\")"
   ]
  },
  {
   "cell_type": "code",
   "execution_count": null,
   "id": "264b8a39",
   "metadata": {},
   "outputs": [],
   "source": []
  }
 ],
 "metadata": {
  "kernelspec": {
   "display_name": "Python 3",
   "language": "python",
   "name": "python3"
  },
  "language_info": {
   "codemirror_mode": {
    "name": "ipython",
    "version": 3
   },
   "file_extension": ".py",
   "mimetype": "text/x-python",
   "name": "python",
   "nbconvert_exporter": "python",
   "pygments_lexer": "ipython3",
   "version": "3.8.8"
  }
 },
 "nbformat": 4,
 "nbformat_minor": 5
}
