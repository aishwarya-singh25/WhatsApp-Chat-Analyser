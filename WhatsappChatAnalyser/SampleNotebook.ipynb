{
 "cells": [
  {
   "cell_type": "markdown",
   "id": "3ea135cb",
   "metadata": {},
   "source": [
    "# Loading Libraries and Dataset"
   ]
  },
  {
   "cell_type": "code",
   "execution_count": 21,
   "id": "44d43bee",
   "metadata": {},
   "outputs": [
    {
     "name": "stdout",
     "output_type": "stream",
     "text": [
      "Looking in indexes: https://test.pypi.org/simple/\n",
      "Requirement already satisfied: whatsapp-chat-analyser==1.0.1 in /Users/aishwaryasingh/opt/anaconda3/lib/python3.8/site-packages (1.0.1)\n",
      "Note: you may need to restart the kernel to use updated packages.\n"
     ]
    }
   ],
   "source": [
    "pip install -i https://test.pypi.org/simple/ whatsapp-chat-analyser==1.0.1"
   ]
  },
  {
   "cell_type": "code",
   "execution_count": 8,
   "id": "5919b30d",
   "metadata": {},
   "outputs": [],
   "source": [
    "#importing required libraries\n",
    "# import author\n",
    "# import chat\n",
    "# import whatsapp_text_cleaner as wtc\n",
    "# import whatsapp_chat_visualizer as wcv\n",
    "\n",
    "# import warnings\n",
    "# warnings.filterwarnings(\"ignore\")"
   ]
  },
  {
   "cell_type": "code",
   "execution_count": 22,
   "id": "555e4f0e",
   "metadata": {},
   "outputs": [],
   "source": [
    "from WhatsappChatAnalyser import author\n",
    "from WhatsappChatAnalyser import group\n",
    "from WhatsappChatAnalyser import whatsapp_text_cleaner as wtc\n",
    "from WhatsappChatAnalyser import whatsapp_chat_visualizer as wcv"
   ]
  },
  {
   "cell_type": "code",
   "execution_count": 23,
   "id": "4c727684",
   "metadata": {},
   "outputs": [],
   "source": [
    "# Defining author and chat class\n",
    "A = author.Author()\n",
    "C = chat.Chat()"
   ]
  },
  {
   "cell_type": "markdown",
   "id": "d02f7948",
   "metadata": {},
   "source": [
    ">**Function:** wtc.load_clean_dataframe\n",
    "\n",
    "This function cleans the text file and returns a structured dataframe for analysis."
   ]
  },
  {
   "cell_type": "code",
   "execution_count": 24,
   "id": "e874f758",
   "metadata": {},
   "outputs": [
    {
     "data": {
      "text/html": [
       "<div>\n",
       "<style scoped>\n",
       "    .dataframe tbody tr th:only-of-type {\n",
       "        vertical-align: middle;\n",
       "    }\n",
       "\n",
       "    .dataframe tbody tr th {\n",
       "        vertical-align: top;\n",
       "    }\n",
       "\n",
       "    .dataframe thead th {\n",
       "        text-align: right;\n",
       "    }\n",
       "</style>\n",
       "<table border=\"1\" class=\"dataframe\">\n",
       "  <thead>\n",
       "    <tr style=\"text-align: right;\">\n",
       "      <th></th>\n",
       "      <th>Date</th>\n",
       "      <th>Time</th>\n",
       "      <th>Author</th>\n",
       "      <th>Message</th>\n",
       "      <th>Hours</th>\n",
       "    </tr>\n",
       "  </thead>\n",
       "  <tbody>\n",
       "    <tr>\n",
       "      <th>0</th>\n",
       "      <td>2020-03-06</td>\n",
       "      <td>12:03 am</td>\n",
       "      <td>None</td>\n",
       "      <td>You created group \"UWash MSDS Fall20 admits\"</td>\n",
       "      <td>0</td>\n",
       "    </tr>\n",
       "    <tr>\n",
       "      <th>1</th>\n",
       "      <td>2020-03-07</td>\n",
       "      <td>9:23 pm</td>\n",
       "      <td>Khirod Sahoo</td>\n",
       "      <td>Hi Utkarsh</td>\n",
       "      <td>21</td>\n",
       "    </tr>\n",
       "    <tr>\n",
       "      <th>2</th>\n",
       "      <td>2020-03-07</td>\n",
       "      <td>9:24 pm</td>\n",
       "      <td>Khirod Sahoo</td>\n",
       "      <td>You have any idea what would be the i20 amount...</td>\n",
       "      <td>21</td>\n",
       "    </tr>\n",
       "    <tr>\n",
       "      <th>3</th>\n",
       "      <td>2020-03-07</td>\n",
       "      <td>9:34 pm</td>\n",
       "      <td>Utkarsh Sharma Uw MSDS</td>\n",
       "      <td>55635</td>\n",
       "      <td>21</td>\n",
       "    </tr>\n",
       "    <tr>\n",
       "      <th>4</th>\n",
       "      <td>2020-03-07</td>\n",
       "      <td>9:35 pm</td>\n",
       "      <td>Khirod Sahoo</td>\n",
       "      <td>Have some doubts..can I call you?</td>\n",
       "      <td>21</td>\n",
       "    </tr>\n",
       "  </tbody>\n",
       "</table>\n",
       "</div>"
      ],
      "text/plain": [
       "        Date      Time                  Author  \\\n",
       "0 2020-03-06  12:03 am                    None   \n",
       "1 2020-03-07   9:23 pm            Khirod Sahoo   \n",
       "2 2020-03-07   9:24 pm            Khirod Sahoo   \n",
       "3 2020-03-07   9:34 pm  Utkarsh Sharma Uw MSDS   \n",
       "4 2020-03-07   9:35 pm            Khirod Sahoo   \n",
       "\n",
       "                                             Message Hours  \n",
       "0       You created group \"UWash MSDS Fall20 admits\"     0  \n",
       "1                                         Hi Utkarsh    21  \n",
       "2  You have any idea what would be the i20 amount...    21  \n",
       "3                                              55635    21  \n",
       "4                  Have some doubts..can I call you?    21  "
      ]
     },
     "execution_count": 24,
     "metadata": {},
     "output_type": "execute_result"
    }
   ],
   "source": [
    "# Loading the text file for analysis.\n",
    "df = wtc.load_clean_dataframe('WhatsAppChatUWMSDS.txt')\n",
    "df.head()"
   ]
  },
  {
   "cell_type": "markdown",
   "id": "18faa9a2",
   "metadata": {},
   "source": [
    "### personal comment 1 - since the demo chat is still not working for me, I am using MSDS group chat."
   ]
  },
  {
   "cell_type": "code",
   "execution_count": 25,
   "id": "8b81c75c",
   "metadata": {},
   "outputs": [],
   "source": [
    "# populating class attributes\n",
    "A.update_info(df)\n",
    "C.update_info(df)"
   ]
  },
  {
   "cell_type": "code",
   "execution_count": 27,
   "id": "3702f75a",
   "metadata": {},
   "outputs": [
    {
     "ename": "TypeError",
     "evalue": "get_stats() got an unexpected keyword argument 'wordCloud'",
     "output_type": "error",
     "traceback": [
      "\u001b[0;31m---------------------------------------------------\u001b[0m",
      "\u001b[0;31mTypeError\u001b[0m         Traceback (most recent call last)",
      "\u001b[0;32m<ipython-input-27-228526bee5b3>\u001b[0m in \u001b[0;36m<module>\u001b[0;34m\u001b[0m\n\u001b[1;32m      1\u001b[0m \u001b[0mx\u001b[0m \u001b[0;34m=\u001b[0m \u001b[0mA\u001b[0m\u001b[0;34m.\u001b[0m\u001b[0mget_stats\u001b[0m\u001b[0;34m(\u001b[0m\u001b[0mdf\u001b[0m\u001b[0;34m)\u001b[0m\u001b[0;34m\u001b[0m\u001b[0;34m\u001b[0m\u001b[0m\n\u001b[0;32m----> 2\u001b[0;31m \u001b[0my\u001b[0m \u001b[0;34m=\u001b[0m \u001b[0mA\u001b[0m\u001b[0;34m.\u001b[0m\u001b[0mget_stats\u001b[0m\u001b[0;34m(\u001b[0m\u001b[0mdf\u001b[0m\u001b[0;34m,\u001b[0m \u001b[0mwordCloud\u001b[0m\u001b[0;34m=\u001b[0m\u001b[0;32mTrue\u001b[0m\u001b[0;34m)\u001b[0m\u001b[0;34m\u001b[0m\u001b[0;34m\u001b[0m\u001b[0m\n\u001b[0m",
      "\u001b[0;31mTypeError\u001b[0m: get_stats() got an unexpected keyword argument 'wordCloud'"
     ]
    }
   ],
   "source": [
    "x = A.get_stats(df)\n",
    "# y = A.get_stats(df, wordCloud=True)"
   ]
  },
  {
   "cell_type": "code",
   "execution_count": 16,
   "id": "28b55753",
   "metadata": {},
   "outputs": [
    {
     "data": {
      "text/html": [
       "<div>\n",
       "<style scoped>\n",
       "    .dataframe tbody tr th:only-of-type {\n",
       "        vertical-align: middle;\n",
       "    }\n",
       "\n",
       "    .dataframe tbody tr th {\n",
       "        vertical-align: top;\n",
       "    }\n",
       "\n",
       "    .dataframe thead th {\n",
       "        text-align: right;\n",
       "    }\n",
       "</style>\n",
       "<table border=\"1\" class=\"dataframe\">\n",
       "  <thead>\n",
       "    <tr style=\"text-align: right;\">\n",
       "      <th></th>\n",
       "      <th>Author</th>\n",
       "      <th>Days_texted</th>\n",
       "      <th>Start_date</th>\n",
       "      <th>Last_date</th>\n",
       "      <th>Letter_count</th>\n",
       "      <th>Word_count</th>\n",
       "      <th>Media_shared</th>\n",
       "      <th>Messages_texted</th>\n",
       "      <th>Messages_Deleted</th>\n",
       "      <th>daysInGroup</th>\n",
       "    </tr>\n",
       "  </thead>\n",
       "  <tbody>\n",
       "    <tr>\n",
       "      <th>0</th>\n",
       "      <td>Khirod Sahoo</td>\n",
       "      <td>35</td>\n",
       "      <td>2020-03-07</td>\n",
       "      <td>2021-09-24</td>\n",
       "      <td>5659</td>\n",
       "      <td>1006</td>\n",
       "      <td>3.0</td>\n",
       "      <td>111</td>\n",
       "      <td>0.0</td>\n",
       "      <td>567</td>\n",
       "    </tr>\n",
       "    <tr>\n",
       "      <th>1</th>\n",
       "      <td>Utkarsh Sharma Uw MSDS</td>\n",
       "      <td>9</td>\n",
       "      <td>2020-03-07</td>\n",
       "      <td>2021-03-10</td>\n",
       "      <td>2038</td>\n",
       "      <td>383</td>\n",
       "      <td>0.0</td>\n",
       "      <td>26</td>\n",
       "      <td>0.0</td>\n",
       "      <td>369</td>\n",
       "    </tr>\n",
       "    <tr>\n",
       "      <th>2</th>\n",
       "      <td>Abhinav Thakur Uw Admit</td>\n",
       "      <td>14</td>\n",
       "      <td>2020-03-16</td>\n",
       "      <td>2020-08-15</td>\n",
       "      <td>1796</td>\n",
       "      <td>327</td>\n",
       "      <td>1.0</td>\n",
       "      <td>42</td>\n",
       "      <td>0.0</td>\n",
       "      <td>153</td>\n",
       "    </tr>\n",
       "    <tr>\n",
       "      <th>3</th>\n",
       "      <td>+91 99690 86610</td>\n",
       "      <td>7</td>\n",
       "      <td>2020-03-29</td>\n",
       "      <td>2020-08-15</td>\n",
       "      <td>746</td>\n",
       "      <td>130</td>\n",
       "      <td>1.0</td>\n",
       "      <td>16</td>\n",
       "      <td>0.0</td>\n",
       "      <td>140</td>\n",
       "    </tr>\n",
       "    <tr>\n",
       "      <th>4</th>\n",
       "      <td>+91 84518 92599</td>\n",
       "      <td>11</td>\n",
       "      <td>2020-03-29</td>\n",
       "      <td>2021-09-27</td>\n",
       "      <td>847</td>\n",
       "      <td>163</td>\n",
       "      <td>2.0</td>\n",
       "      <td>25</td>\n",
       "      <td>0.0</td>\n",
       "      <td>548</td>\n",
       "    </tr>\n",
       "  </tbody>\n",
       "</table>\n",
       "</div>"
      ],
      "text/plain": [
       "                    Author  Days_texted Start_date  Last_date  Letter_count  \\\n",
       "0             Khirod Sahoo           35 2020-03-07 2021-09-24          5659   \n",
       "1   Utkarsh Sharma Uw MSDS            9 2020-03-07 2021-03-10          2038   \n",
       "2  Abhinav Thakur Uw Admit           14 2020-03-16 2020-08-15          1796   \n",
       "3          +91 99690 86610            7 2020-03-29 2020-08-15           746   \n",
       "4          +91 84518 92599           11 2020-03-29 2021-09-27           847   \n",
       "\n",
       "   Word_count  Media_shared  Messages_texted  Messages_Deleted  daysInGroup  \n",
       "0        1006           3.0              111               0.0          567  \n",
       "1         383           0.0               26               0.0          369  \n",
       "2         327           1.0               42               0.0          153  \n",
       "3         130           1.0               16               0.0          140  \n",
       "4         163           2.0               25               0.0          548  "
      ]
     },
     "execution_count": 16,
     "metadata": {},
     "output_type": "execute_result"
    }
   ],
   "source": [
    "x.head()"
   ]
  },
  {
   "cell_type": "markdown",
   "id": "882f7c9d",
   "metadata": {},
   "source": [
    "# Data Visualization"
   ]
  },
  {
   "cell_type": "markdown",
   "id": "c9437b87",
   "metadata": {},
   "source": [
    ">**Function:** wcv.bar_plot(var_1, var_2, n)\n",
    "\n",
    "This function generates the bar plot indicating frequnecy of messages per author. Pass the cleaned dataframe and the number of most active authors you want to visualize. "
   ]
  },
  {
   "cell_type": "code",
   "execution_count": 20,
   "id": "8506a84e",
   "metadata": {},
   "outputs": [
    {
     "data": {
      "image/png": "[encoded data removed]",
      "text/plain": [
       "<Figure size 640x480 with 1 Axes>"
      ]
     },
     "metadata": {
      "image/png": {
       "height": 484,
       "width": 745
      }
     },
     "output_type": "display_data"
    }
   ],
   "source": [
    "wcv.bar_plot(x[['Author','Media_shared']],max=5,sort=False)"
   ]
  },
  {
   "cell_type": "markdown",
   "id": "d6ef7cfc",
   "metadata": {},
   "source": [
    ">**Function:** wcv.pie(df, n)\n",
    "\n",
    "This function generates the pie chart showing the contribution of each author in the chat. Pass the cleaned dataframe and the number of authors you want to visualise."
   ]
  },
  {
   "cell_type": "code",
   "execution_count": null,
   "id": "1990cb93",
   "metadata": {},
   "outputs": [],
   "source": [
    "wcv.pie(df, max=7) "
   ]
  },
  {
   "cell_type": "markdown",
   "id": "e369b966",
   "metadata": {},
   "source": [
    "### personal comment 2 - there are no titles and lables here\n",
    "### comment 3 - add a wordcloud here. "
   ]
  },
  {
   "cell_type": "code",
   "execution_count": null,
   "id": "47a390c7",
   "metadata": {},
   "outputs": [],
   "source": [
    "# wcv.WordCloud(df)\n",
    "A.get_text_info(df,wordCloud=False)"
   ]
  },
  {
   "cell_type": "markdown",
   "id": "46cb23be",
   "metadata": {},
   "source": [
    "# Performing Data Analysis for Authors"
   ]
  },
  {
   "cell_type": "markdown",
   "id": "5679ba97",
   "metadata": {},
   "source": [
    ">**Function:** A.get_stats(df)\n",
    "\n",
    "This function will generate the overall statistics for each author in the chat. You can get the number of messages, number of media shared, number of days texted and a lot more."
   ]
  },
  {
   "cell_type": "code",
   "execution_count": null,
   "id": "9889387f",
   "metadata": {},
   "outputs": [],
   "source": [
    "A.get_stats(df)[0:10]"
   ]
  },
  {
   "cell_type": "markdown",
   "id": "2a7e4b94",
   "metadata": {},
   "source": [
    ">**Function:** A.get_aggressiveness(df)\n",
    "\n",
    "To check how active individual authors are on a daily basis, use the get_aggressiveness funciton. This function returns the average number of messages per author per day."
   ]
  },
  {
   "cell_type": "code",
   "execution_count": null,
   "id": "1e83a590",
   "metadata": {
    "scrolled": true
   },
   "outputs": [],
   "source": [
    "A.get_aggressiveness(df)[:7]"
   ]
  },
  {
   "cell_type": "markdown",
   "id": "47151bc3",
   "metadata": {},
   "source": [
    ">**Function:** A.get_number_mediasShared((df)\n",
    "\n",
    "We can share images, videos and stickers on WhatsApp, which is counted as media. This function returns the number of media files shared by the author since they joined the group."
   ]
  },
  {
   "cell_type": "code",
   "execution_count": null,
   "id": "ee51d567",
   "metadata": {},
   "outputs": [],
   "source": [
    "A.get_number_mediasShared(df)"
   ]
  },
  {
   "cell_type": "markdown",
   "id": "378ffcf1",
   "metadata": {},
   "source": [
    ">**Function:** A.get_letters_words((df)\n",
    "\n",
    "The length of messages may vary for each author - one can have more messages but of short lenght while another could have less number of messages but huge. This function returns the number of letter count and word count."
   ]
  },
  {
   "cell_type": "code",
   "execution_count": null,
   "id": "24fffeaa",
   "metadata": {},
   "outputs": [],
   "source": [
    "A.get_letters_words(df)[:10]"
   ]
  },
  {
   "cell_type": "markdown",
   "id": "6b47a27a",
   "metadata": {},
   "source": [
    "> Other functions you can explore under the author class\n",
    "- A.get_frequency\n",
    "- A.get_consistency\n",
    "- A.get_number_deletedMessges\n",
    "- A.get_metrics \n",
    "- A.get_number_activeDays \n",
    "- A.get_number_daysInGroup\n",
    "- A.get_number_textMessages \n",
    "- A.get_startDate_endDate "
   ]
  },
  {
   "cell_type": "markdown",
   "id": "c64da210",
   "metadata": {},
   "source": [
    "# Performing Data Analysis for Group"
   ]
  },
  {
   "cell_type": "code",
   "execution_count": null,
   "id": "d101802e",
   "metadata": {},
   "outputs": [],
   "source": []
  }
 ],
 "metadata": {
  "kernelspec": {
   "display_name": "Python 3",
   "language": "python",
   "name": "python3"
  },
  "language_info": {
   "codemirror_mode": {
    "name": "ipython",
    "version": 3
   },
   "file_extension": ".py",
   "mimetype": "text/x-python",
   "name": "python",
   "nbconvert_exporter": "python",
   "pygments_lexer": "ipython3",
   "version": "3.8.8"
  }
 },
 "nbformat": 4,
 "nbformat_minor": 5
}
