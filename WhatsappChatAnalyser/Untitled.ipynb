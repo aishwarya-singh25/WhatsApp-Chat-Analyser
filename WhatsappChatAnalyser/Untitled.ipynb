{
 "cells": [
  {
   "cell_type": "code",
   "execution_count": 12,
   "id": "49e2308d",
   "metadata": {},
   "outputs": [
    {
     "name": "stdout",
     "output_type": "stream",
     "text": [
      "hello user\n",
      "\u001b[1mNumber of messages per day on whatsapp since the start date\u001b[0m\n",
      "                     Author   Frequency\n",
      "26          +91 83101 79085  120.000000\n",
      "28          +91 98196 02059   57.000000\n",
      "32          +91 81787 41993   50.000000\n",
      "33          +91 76660 66985   21.000000\n",
      "44         Kirsteen NG Msds    2.833333\n",
      "41                Anagha UW    2.428571\n",
      "20          +91 98211 63479    0.731092\n",
      "17          Amrit Bhat MSDS    0.442177\n",
      "40     Reeya Pimple Uw Msds    0.367347\n",
      "3   Abhinav Thakur Uw Admit    0.281046\n",
      "22          +91 88846 04504    0.250000\n",
      "1              Khirod Sahoo    0.201058\n",
      "10  Ananya Sharma UW Admits    0.132576\n",
      "4           +91 99690 86610    0.121429\n",
      "14          +91 70931 74555    0.100000\n",
      "19          +91 95828 44965    0.090909\n",
      "5           +91 84518 92599    0.049270\n",
      "12          +91 99232 23065    0.042683\n",
      "0                      None         NaN\n",
      "2    Utkarsh Sharma Uw MSDS         NaN\n",
      "6           +91 80877 44932         NaN\n",
      "7           +91 96198 81901         NaN\n",
      "8         Aniket Fadia MSDS         NaN\n",
      "9        Aamir Darukhanwala         NaN\n",
      "11          +91 96867 61942         NaN\n",
      "13          +91 90101 38928         NaN\n",
      "15     Shweta Mayekar Uwash         NaN\n",
      "16          +91 94820 11876         NaN\n",
      "18          +91 97397 61811         NaN\n",
      "21          Aishwarya Uwash         NaN\n",
      "23          +91 94047 96323         NaN\n",
      "24          +91 98332 55430         NaN\n",
      "25          +91 81970 59012         NaN\n",
      "27          +91 78270 62118         NaN\n",
      "29          +91 98222 70678         NaN\n",
      "30          +91 99204 38945         NaN\n",
      "31          +91 96770 66394         NaN\n",
      "34          +91 89750 58874         NaN\n",
      "35          +91 85276 57878         NaN\n",
      "36          +91 90434 21357         NaN\n",
      "37          +91 87900 41485         NaN\n",
      "38         Tarun Reddy MSDS         NaN\n",
      "39          +91 88678 42245         NaN\n",
      "42            Anushka Patil         NaN\n",
      "43           Ernesto Cedial         NaN\n"
     ]
    },
    {
     "ename": "AttributeError",
     "evalue": "'Author' object has no attribute 'get_text_info'",
     "output_type": "error",
     "traceback": [
      "\u001b[1;31m---------------------------------------------------------------------------\u001b[0m",
      "\u001b[1;31mAttributeError\u001b[0m                            Traceback (most recent call last)",
      "\u001b[1;32m<ipython-input-12-f47c657bc8db>\u001b[0m in \u001b[0;36m<module>\u001b[1;34m\u001b[0m\n\u001b[0;32m     31\u001b[0m \u001b[1;31m#wcv.bar_plot(df,max=5,sort=False)\u001b[0m\u001b[1;33m\u001b[0m\u001b[1;33m\u001b[0m\u001b[1;33m\u001b[0m\u001b[0m\n\u001b[0;32m     32\u001b[0m \u001b[1;31m#wcv.pie(df,max=5,explode=explode)\u001b[0m\u001b[1;33m\u001b[0m\u001b[1;33m\u001b[0m\u001b[1;33m\u001b[0m\u001b[0m\n\u001b[1;32m---> 33\u001b[1;33m \u001b[0mdf\u001b[0m\u001b[1;33m=\u001b[0m\u001b[0mA\u001b[0m\u001b[1;33m.\u001b[0m\u001b[0mget_text_info\u001b[0m\u001b[1;33m(\u001b[0m\u001b[0mdf_new\u001b[0m\u001b[1;33m,\u001b[0m\u001b[0mextra_StopWords\u001b[0m\u001b[1;33m,\u001b[0m\u001b[0mwordCloud\u001b[0m\u001b[1;33m=\u001b[0m\u001b[1;32mTrue\u001b[0m\u001b[1;33m)\u001b[0m\u001b[1;33m\u001b[0m\u001b[1;33m\u001b[0m\u001b[0m\n\u001b[0m\u001b[0;32m     34\u001b[0m \u001b[0mprint\u001b[0m\u001b[1;33m(\u001b[0m\u001b[0mdf\u001b[0m\u001b[1;33m.\u001b[0m\u001b[0mhead\u001b[0m\u001b[1;33m(\u001b[0m\u001b[1;33m)\u001b[0m\u001b[1;33m)\u001b[0m\u001b[1;33m\u001b[0m\u001b[1;33m\u001b[0m\u001b[0m\n\u001b[0;32m     35\u001b[0m \u001b[0mprint\u001b[0m\u001b[1;33m(\u001b[0m\u001b[1;34m\"code ran succesfully\"\u001b[0m\u001b[1;33m)\u001b[0m\u001b[1;33m\u001b[0m\u001b[1;33m\u001b[0m\u001b[0m\n",
      "\u001b[1;31mAttributeError\u001b[0m: 'Author' object has no attribute 'get_text_info'"
     ]
    }
   ],
   "source": [
    "print(\"hello user\")\n",
    "#pip install WordCloud\n",
    "import author \n",
    "import chat\n",
    "import whatsapp_text_cleaner as wtc\n",
    "import pandas as pd\n",
    "import warnings\n",
    "import matplotlib.pyplot as plt\n",
    "import numpy as np\n",
    "from IPython.display import set_matplotlib_formats\n",
    "warnings.filterwarnings(\"ignore\")\n",
    "import nltk\n",
    "import whatsapp_chat_visualizer as wcv\n",
    "explode=[0.1,0,0.1,0.2,0.4]\n",
    "nltk.data.path.append('/Users/stlp/Downloads/')\n",
    "extra_StopWords = [\"thats\",\"dont\",\"<Media omitted>\",\"media\",\"Media\",\"Omitted\",\"omitted\",\"also\",\"like\",\"https\",\"from\",\"all\",\"also\",\"and\",\"any\",\"are\",\"but\",\"can\",\"cant\",\"cry\",\"due\",\"etc\",\"few\",\"for\",\"get\",\"had\",\"has\",\"hasnt\",\"have\",\"her\",\"here\",\"hers\",\"herself\",\"him\",\"himself\",\"his\",\"how\",\"inc\",\"into\",\"its\",\"ltd\",\"may\",\"nor\",\"not\",\"now\",\"off\",\"once\",\"one\",\"only\",\"onto\",\"our\",\"ours\",\"out\",\"over\",\"own\",\"part\",\"per\",\"put\",\"see\",\"seem\",\"she\",\"than\",\"that\",\"the\",\"their\",\"them\",\"then\",\"thence\",\"there\",\"these\",\"they\",\"this\",\"those\",\"though\",\"thus\",\"too\",\"top\",\"upon\",\"very\",\"via\",\"was\",\"were\",\"what\",\"when\",\"which\",\"while\",\"who\",\"whoever\",\"whom\",\"whose\",\"why\",\"will\",\"with\",\"within\",\"without\",\"would\",\"yet\",\"you\",\"your\",\"yours\",\"the\"]\n",
    "filepath='WhatsApp Chat with UW MSDS Fall21.txt'\n",
    "text_df=wtc.load_clean_dataframe(filepath)\n",
    "A=author.Author()\n",
    "C=chat.Chat()\n",
    "A.update_info(text_df)\n",
    "C.update_info(text_df)\n",
    "#author_buffer_details=pd.DataFrame(data=A.name,columns=['Author'])\n",
    "#author_buffer_details=author_buffer_details.merge(A.get_number_activeDays(text_df),on='Author',how='left')\n",
    "#df_days_texted=pd.DataFrame(text_df.groupby('Author')['Date'].nunique()).rename(columns={'Date':'Days_texted'})\n",
    "#df=A.get_metrics(text_df)\n",
    "df_new=A.remove_null_authors(text_df)\n",
    "df=A.get_frequency(text_df)\n",
    "\n",
    "print(df)\n",
    "#wcv.bar_plot(df,max=5,sort=False)\n",
    "#wcv.pie(df,max=5,explode=explode)\n",
    "df=A.get_author_text_info(df_new,extra_StopWords,wordCloud=True)\n",
    "print(df.head())\n",
    "print(\"code ran succesfully\")"
   ]
  },
  {
   "cell_type": "code",
   "execution_count": 21,
   "id": "d04b20e4",
   "metadata": {},
   "outputs": [],
   "source": [
    "null_authors=text_df[text_df['Author'].isnull()]\n",
    "df_new= text_df.drop(null_authors.index)\n"
   ]
  },
  {
   "cell_type": "code",
   "execution_count": 31,
   "id": "1eac55a8",
   "metadata": {},
   "outputs": [],
   "source": [
    "#pip install WordCloud\n",
    "import author \n",
    "import chat\n",
    "import whatsapp_text_cleaner as wtc\n",
    "import pandas as pd\n",
    "import warnings\n",
    "import matplotlib.pyplot as plt\n",
    "import numpy as np\n",
    "from IPython.display import set_matplotlib_formats\n",
    "warnings.filterwarnings(\"ignore\")\n",
    "import nltk\n",
    "import whatsapp_chat_visualizer as wcv\n",
    "explode=[0.1,0,0.1,0.2,0.4]\n",
    "nltk.data.path.append('/Users/stlp/Downloads/')\n",
    "extra_StopWords = [\"thats\",\"dont\",\"<Media omitted>\",\"media\",\"Media\",\"Omitted\",\"omitted\",\"also\",\"like\",\"https\",\"from\",\"all\",\"also\",\"and\",\"any\",\"are\",\"but\",\"can\",\"cant\",\"cry\",\"due\",\"etc\",\"few\",\"for\",\"get\",\"had\",\"has\",\"hasnt\",\"have\",\"her\",\"here\",\"hers\",\"herself\",\"him\",\"himself\",\"his\",\"how\",\"inc\",\"into\",\"its\",\"ltd\",\"may\",\"nor\",\"not\",\"now\",\"off\",\"once\",\"one\",\"only\",\"onto\",\"our\",\"ours\",\"out\",\"over\",\"own\",\"part\",\"per\",\"put\",\"see\",\"seem\",\"she\",\"than\",\"that\",\"the\",\"their\",\"them\",\"then\",\"thence\",\"there\",\"these\",\"they\",\"this\",\"those\",\"though\",\"thus\",\"too\",\"top\",\"upon\",\"very\",\"via\",\"was\",\"were\",\"what\",\"when\",\"which\",\"while\",\"who\",\"whoever\",\"whom\",\"whose\",\"why\",\"will\",\"with\",\"within\",\"without\",\"would\",\"yet\",\"you\",\"your\",\"yours\",\"the\"]\n",
    "filepath='WhatsApp Chat with UW MSDS Fall21.txt'\n",
    "text_df=wtc.load_clean_dataframe(filepath)\n",
    "A=author.Author()\n",
    "C=chat.Chat()"
   ]
  },
  {
   "cell_type": "code",
   "execution_count": 32,
   "id": "9890e838",
   "metadata": {},
   "outputs": [
    {
     "data": {
      "text/plain": [
       "Index(['Author', 'avgWordspermessage', 'minWordspermessage',\n",
       "       'maxWordspermessage', 'emovocab', 'totalemojis', 'top5emojis', 'vocab',\n",
       "       'top5words'],\n",
       "      dtype='object')"
      ]
     },
     "execution_count": 32,
     "metadata": {},
     "output_type": "execute_result"
    }
   ],
   "source": [
    "df_all= C.get_text_info(df_new,extra_StopWords,wordCloud=False)\n",
    "df_all.columns"
   ]
  },
  {
   "cell_type": "code",
   "execution_count": 34,
   "id": "9ac26c8d",
   "metadata": {},
   "outputs": [
    {
     "ename": "AttributeError",
     "evalue": "'Chat' object has no attribute 'check'",
     "output_type": "error",
     "traceback": [
      "\u001b[1;31m---------------------------------------------------------------------------\u001b[0m",
      "\u001b[1;31mAttributeError\u001b[0m                            Traceback (most recent call last)",
      "\u001b[1;32m<ipython-input-34-a0ab03a780fc>\u001b[0m in \u001b[0;36m<module>\u001b[1;34m\u001b[0m\n\u001b[1;32m----> 1\u001b[1;33m \u001b[0mC\u001b[0m\u001b[1;33m.\u001b[0m\u001b[0mcheck\u001b[0m\u001b[1;33m(\u001b[0m\u001b[1;33m)\u001b[0m\u001b[1;33m\u001b[0m\u001b[1;33m\u001b[0m\u001b[0m\n\u001b[0m",
      "\u001b[1;31mAttributeError\u001b[0m: 'Chat' object has no attribute 'check'"
     ]
    }
   ],
   "source": [
    "C.check()"
   ]
  },
  {
   "cell_type": "code",
   "execution_count": null,
   "id": "149585d6",
   "metadata": {},
   "outputs": [],
   "source": []
  }
 ],
 "metadata": {
  "kernelspec": {
   "display_name": "Python 3",
   "language": "python",
   "name": "python3"
  },
  "language_info": {
   "codemirror_mode": {
    "name": "ipython",
    "version": 3
   },
   "file_extension": ".py",
   "mimetype": "text/x-python",
   "name": "python",
   "nbconvert_exporter": "python",
   "pygments_lexer": "ipython3",
   "version": "3.8.8"
  }
 },
 "nbformat": 4,
 "nbformat_minor": 5
}
